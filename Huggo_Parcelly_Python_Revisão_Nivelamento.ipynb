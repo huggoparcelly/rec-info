{
  "nbformat": 4,
  "nbformat_minor": 0,
  "metadata": {
    "colab": {
      "provenance": [],
      "include_colab_link": true
    },
    "kernelspec": {
      "name": "python3",
      "display_name": "Python 3"
    }
  },
  "cells": [
    {
      "cell_type": "markdown",
      "metadata": {
        "id": "view-in-github",
        "colab_type": "text"
      },
      "source": [
        "<a href=\"https://colab.research.google.com/github/huggoparcelly/rec-info/blob/main/Huggo_Parcelly_Python_Revis%C3%A3o_Nivelamento.ipynb\" target=\"_parent\"><img src=\"https://colab.research.google.com/assets/colab-badge.svg\" alt=\"Open In Colab\"/></a>"
      ]
    },
    {
      "cell_type": "markdown",
      "source": [
        "# Identificação:\n",
        "\n",
        "Matrícula: 120210155\n",
        "\n",
        "Nome: Huggo Parcelly da Silva"
      ],
      "metadata": {
        "id": "Vpf-s3t8yR5N"
      }
    },
    {
      "cell_type": "markdown",
      "source": [
        "# Python - Exercícios de Nivelamento"
      ],
      "metadata": {
        "id": "0JFnA1Un-SAy"
      }
    },
    {
      "cell_type": "markdown",
      "source": [
        "Se você quiser aprender um pouco de Python antes de fazer os exercícios, segue uma lista de tutoriais recomendados:\n",
        "\n",
        "[Este notebook que vai desde o básico até o intermediário em python](https://github.com/arnaldog12/Jupyter-Tutoriais/blob/master/Python.ipynb).\n",
        "\n",
        "[Tutorial Básico de Python](https://www.devmedia.com.br/python-tutorial/33274).\n",
        "\n",
        "[Aprenda List Comprehension direto no navegador](https://www.programiz.com/python-programming/list-comprehension).\n",
        "\n",
        "[Mais um tutorial de list comprehensions](https://pythonacademy.com.br/blog/list-comprehensions-no-python)"
      ],
      "metadata": {
        "id": "zBieLgoB9rWK"
      }
    },
    {
      "cell_type": "markdown",
      "metadata": {
        "id": "GMNUE0d5gqnn"
      },
      "source": [
        "# List Comprehensions"
      ]
    },
    {
      "cell_type": "markdown",
      "metadata": {
        "id": "dV0S-dOZgxQv"
      },
      "source": [
        "Nos exercícios abaixo, use list comprehensions pra criar as listas de acordo com o que for pedido:"
      ]
    },
    {
      "cell_type": "markdown",
      "metadata": {
        "id": "b7ofnef0hEpo"
      },
      "source": [
        "### Números pares até 30"
      ]
    },
    {
      "cell_type": "code",
      "metadata": {
        "id": "8KEG5McMflhK",
        "colab": {
          "base_uri": "https://localhost:8080/"
        },
        "outputId": "219e7c58-90bd-424f-a9b5-54ab1f6b940c"
      },
      "source": [
        "#insira seu código aqui\n",
        "even_num = [num for num in range(1, 31) if num %2 == 0]\n",
        "even_num"
      ],
      "execution_count": null,
      "outputs": [
        {
          "output_type": "execute_result",
          "data": {
            "text/plain": [
              "[2, 4, 6, 8, 10, 12, 14, 16, 18, 20, 22, 24, 26, 28, 30]"
            ]
          },
          "metadata": {},
          "execution_count": 4
        }
      ]
    },
    {
      "cell_type": "markdown",
      "metadata": {
        "id": "x6T15otDhVnP"
      },
      "source": [
        "<font color='red'>**Saída esperada:**</font>\n",
        "\n",
        "```py\n",
        "[2, 4, 6, 8, 10, 12, 14, 16, 18, 20, 22, 24, 26, 28, 30]\n",
        "```"
      ]
    },
    {
      "cell_type": "markdown",
      "metadata": {
        "id": "M6efLUcUhrNe"
      },
      "source": [
        "### Quadrado dos números ímpares até 10"
      ]
    },
    {
      "cell_type": "code",
      "metadata": {
        "id": "3Xgr5-FahQES",
        "colab": {
          "base_uri": "https://localhost:8080/"
        },
        "outputId": "2b2d640e-da65-4651-9810-1822255273c1"
      },
      "source": [
        "#insira seu código aqui\n",
        "odd_squad = [num ** 2 for num in range(10) if num %2 != 0]\n",
        "odd_squad"
      ],
      "execution_count": null,
      "outputs": [
        {
          "output_type": "execute_result",
          "data": {
            "text/plain": [
              "[1, 9, 25, 49, 81]"
            ]
          },
          "metadata": {},
          "execution_count": 1
        }
      ]
    },
    {
      "cell_type": "markdown",
      "metadata": {
        "id": "Okrm-gL2h11Y"
      },
      "source": [
        "<font color='red'>**Saída esperada:**</font>\n",
        "\n",
        "```py\n",
        "[1, 9, 25, 49, 81]\n",
        "```"
      ]
    },
    {
      "cell_type": "markdown",
      "metadata": {
        "id": "6mMcmggUi06I"
      },
      "source": [
        "### Lucro obtido pela venda de um determinado produto por R$ 25.90, considerando diferentes valores de compra. Formatar saída com `'{:.2f}'.format(valor)`\n"
      ]
    },
    {
      "cell_type": "code",
      "metadata": {
        "id": "6DlZTIqthzsE",
        "colab": {
          "base_uri": "https://localhost:8080/"
        },
        "outputId": "98c2ac92-6293-4131-fb0a-40163d93a109"
      },
      "source": [
        "list_values = [13.80, 25.20, 17.70, 18.10]\n",
        "\n",
        "list_profit = ['{:.2f}'.format(25.90 - num) for num in list_values]\n",
        "\n",
        "list_profit"
      ],
      "execution_count": null,
      "outputs": [
        {
          "output_type": "execute_result",
          "data": {
            "text/plain": [
              "['12.10', '0.70', '8.20', '7.80']"
            ]
          },
          "metadata": {},
          "execution_count": 12
        }
      ]
    },
    {
      "cell_type": "markdown",
      "metadata": {
        "id": "lj9VmxAijW1f"
      },
      "source": [
        "<font color='red'>**Saída esperada:**</font>\n",
        "\n",
        "```py\n",
        "['12.10', '0.70', '8.20', '7.80']\n",
        "```"
      ]
    },
    {
      "cell_type": "markdown",
      "metadata": {
        "id": "IgyUMONljeq5"
      },
      "source": [
        "# Dictionary Comprehensions"
      ]
    },
    {
      "cell_type": "markdown",
      "metadata": {
        "id": "dp1Z7NpFj-9W"
      },
      "source": [
        "Em Python, também é possível utilizar a mesma lógica das list comprehensions para criar dicionários. Portanto, crie os dicionários abaixo de acordo com o pedido no exercício."
      ]
    },
    {
      "cell_type": "markdown",
      "metadata": {
        "id": "gMqrWmx2jhuG"
      },
      "source": [
        "### Chaves: números pares até 10; Valores: Cubo das chaves"
      ]
    },
    {
      "cell_type": "code",
      "metadata": {
        "id": "KNqkjoAQjS-u",
        "colab": {
          "base_uri": "https://localhost:8080/"
        },
        "outputId": "42fa342d-a5ae-4dd6-b821-1d16d2bd2f9e"
      },
      "source": [
        "#insira seu código aqui\n",
        "dic = {key: key ** 3 for key in range(1,11) if key % 2 == 0}\n",
        "dic"
      ],
      "execution_count": null,
      "outputs": [
        {
          "output_type": "execute_result",
          "data": {
            "text/plain": [
              "{2: 8, 4: 64, 6: 216, 8: 512, 10: 1000}"
            ]
          },
          "metadata": {},
          "execution_count": 17
        }
      ]
    },
    {
      "cell_type": "markdown",
      "metadata": {
        "id": "1fj-l3qnj3CQ"
      },
      "source": [
        "<font color='red'>**Saída esperada:**</font>\n",
        "\n",
        "```py\n",
        "{2: 8, 4: 64, 6: 216, 8: 512, 10: 1000}\n",
        "```"
      ]
    },
    {
      "cell_type": "markdown",
      "metadata": {
        "id": "_ERTFG8nT4Uq"
      },
      "source": [
        "### Chaves: elementos da lista; Valores: quantidade de vezes que o elemento apareceu na lista"
      ]
    },
    {
      "cell_type": "code",
      "metadata": {
        "id": "EpekTfXkkwBs",
        "colab": {
          "base_uri": "https://localhost:8080/"
        },
        "outputId": "8ccb8db5-325c-4c9e-d341-724e68a33ba6"
      },
      "source": [
        "test_list = [3, 3, 2, 1, 1, 3, 2, 2, 1, 3, 0]\n",
        "\n",
        "#insira seu código aqui\n",
        "test_list.sort()\n",
        "dic_elemt = {num: test_list.count(num) for num in test_list}\n",
        "dic_elemt"
      ],
      "execution_count": null,
      "outputs": [
        {
          "output_type": "execute_result",
          "data": {
            "text/plain": [
              "{0: 1, 1: 3, 2: 3, 3: 4}"
            ]
          },
          "metadata": {},
          "execution_count": 15
        }
      ]
    },
    {
      "cell_type": "markdown",
      "metadata": {
        "id": "iF_QzXwyT1Mu"
      },
      "source": [
        "<font color='red'>**Saída esperada:**</font>\n",
        "\n",
        "```py\n",
        "{0: 1, 1: 3, 2: 3, 3: 4}\n",
        "```"
      ]
    },
    {
      "cell_type": "markdown",
      "metadata": {
        "id": "z9fsUAeEkay8"
      },
      "source": [
        "### Uma tupla ($x$, $y$), onde $x$ representa a i-ésima letra de uma string e $y$ = (i+1)-ésima letra"
      ]
    },
    {
      "cell_type": "code",
      "metadata": {
        "id": "WzhtCwEyj1Ns",
        "colab": {
          "base_uri": "https://localhost:8080/"
        },
        "outputId": "6f2217da-e598-4d95-fef9-fe8ba3c6f1e7"
      },
      "source": [
        "string = 'python'\n",
        "\n",
        "#insira seu código aqui\n",
        "tuple_string = [(string[i], string[i+1]) for i in range(len(string) - 1)]\n",
        "tuple_string"
      ],
      "execution_count": null,
      "outputs": [
        {
          "output_type": "execute_result",
          "data": {
            "text/plain": [
              "[('p', 'y'), ('y', 't'), ('t', 'h'), ('h', 'o'), ('o', 'n')]"
            ]
          },
          "metadata": {},
          "execution_count": 20
        }
      ]
    },
    {
      "cell_type": "markdown",
      "metadata": {
        "id": "X9ujBr9olv_2"
      },
      "source": [
        "<font color='red'>**Saída esperada:**</font>\n",
        "\n",
        "```py\n",
        "[('p', 'y'), ('y', 't'), ('t', 'h'), ('h', 'o'), ('o', 'n')]\n",
        "```"
      ]
    },
    {
      "cell_type": "markdown",
      "metadata": {
        "id": "da7KJhMKmQn5"
      },
      "source": [
        "# Funções"
      ]
    },
    {
      "cell_type": "markdown",
      "metadata": {
        "id": "e2D4kudonqNh"
      },
      "source": [
        "Crie uma função em python para cada instrução abaixo."
      ]
    },
    {
      "cell_type": "markdown",
      "metadata": {
        "id": "zNA4HjDbmUdC"
      },
      "source": [
        "- **nome**: `by_six(x)`\n",
        "- **entrada**: $x$ (número inteiro)\n",
        "- **retorno**: booleano que indica se um número é divísivel por 6"
      ]
    },
    {
      "cell_type": "code",
      "metadata": {
        "id": "QMmJHcDXmTJu",
        "colab": {
          "base_uri": "https://localhost:8080/"
        },
        "outputId": "532a8629-9ece-4047-f622-6351313b8437"
      },
      "source": [
        "#insira seu código aqui\n",
        "def by_six(x):\n",
        "  return x % 6 == 0\n",
        "\n",
        "# não altere o código abaixo\n",
        "test_list = list(range(15))\n",
        "for x in test_list:\n",
        "    print(x, by_six(x))"
      ],
      "execution_count": null,
      "outputs": [
        {
          "output_type": "stream",
          "name": "stdout",
          "text": [
            "0 True\n",
            "1 False\n",
            "2 False\n",
            "3 False\n",
            "4 False\n",
            "5 False\n",
            "6 True\n",
            "7 False\n",
            "8 False\n",
            "9 False\n",
            "10 False\n",
            "11 False\n",
            "12 True\n",
            "13 False\n",
            "14 False\n"
          ]
        }
      ]
    },
    {
      "cell_type": "markdown",
      "metadata": {
        "id": "-mZ_QbT9pdlB"
      },
      "source": [
        "<font color='red'>**Saída esperada:**</font>\n",
        "\n",
        "```py\n",
        "0 True\n",
        "1 False\n",
        "2 False\n",
        "3 False\n",
        "4 False\n",
        "5 False\n",
        "6 True\n",
        "7 False\n",
        "8 False\n",
        "9 False\n",
        "10 False\n",
        "11 False\n",
        "12 True\n",
        "13 False\n",
        "14 False\n",
        "```"
      ]
    },
    {
      "cell_type": "markdown",
      "metadata": {
        "id": "L5TbGIPnp4Fu"
      },
      "source": [
        "- **nome**: `add_lists(list_1, list_2)`\n",
        "- **entrada**: duas listas de números inteiros e de mesmo tamanho\n",
        "- **retorno**: lista com a soma dos elementos na mesma posição"
      ]
    },
    {
      "cell_type": "code",
      "metadata": {
        "id": "2TxlKG-GqGWG",
        "colab": {
          "base_uri": "https://localhost:8080/"
        },
        "outputId": "689707be-8417-4ed1-9314-98459a241db2"
      },
      "source": [
        "#insira seu código aqui\n",
        "def add_lists(list_1, list_2):\n",
        "  return [(list_1[i] + list_2[j]) for i in range(len(list_1)) for j in range(len(list_2)) if i == j]\n",
        "\n",
        "# não altere o código abaixo\n",
        "list_1 = [1, 2, 3, 4, 5]\n",
        "list_2 = [7, 9, 6, 4, 0]\n",
        "\n",
        "add_lists(list_1, list_2)"
      ],
      "execution_count": null,
      "outputs": [
        {
          "output_type": "execute_result",
          "data": {
            "text/plain": [
              "[8, 11, 9, 8, 5]"
            ]
          },
          "metadata": {},
          "execution_count": 32
        }
      ]
    },
    {
      "cell_type": "markdown",
      "metadata": {
        "id": "2NvClEShqa82"
      },
      "source": [
        "<font color='red'>**Saída esperada:**</font>\n",
        "\n",
        "```py\n",
        "[8, 11, 9, 8, 5]\n",
        "```"
      ]
    },
    {
      "cell_type": "markdown",
      "metadata": {
        "id": "kb23WI9moVYn"
      },
      "source": [
        "- **nome**: `remove_character_from_word(word, char)`\n",
        "- **entrada**: duas strings (`word` e `char`)\n",
        "- **retorno**: string `word` sem os caracteres iguais a `char`"
      ]
    },
    {
      "cell_type": "code",
      "metadata": {
        "id": "2cbhuSg3o8Ra",
        "colab": {
          "base_uri": "https://localhost:8080/",
          "height": 36
        },
        "outputId": "1ec33908-5427-437f-c802-7a7cb22de8e9"
      },
      "source": [
        "#insira seu código aqui\n",
        "def remove_character_from_word(word, char):\n",
        "  return word.replace(char, '')\n",
        "\n",
        "# não altere o código abaixo\n",
        "word = 'abracadabra'\n",
        "remove_character_from_word(word, 'a')"
      ],
      "execution_count": null,
      "outputs": [
        {
          "output_type": "execute_result",
          "data": {
            "text/plain": [
              "'brcdbr'"
            ],
            "application/vnd.google.colaboratory.intrinsic+json": {
              "type": "string"
            }
          },
          "metadata": {},
          "execution_count": 24
        }
      ]
    },
    {
      "cell_type": "markdown",
      "metadata": {
        "id": "isn0EtO9pXuK"
      },
      "source": [
        "<font color='red'>**Saída esperada:**</font>\n",
        "\n",
        "```py\n",
        "'brcdbr'\n",
        "```"
      ]
    },
    {
      "cell_type": "markdown",
      "metadata": {
        "id": "S0CoCR5WXFCy"
      },
      "source": [
        "- **nome**: `simple_tokenization(sentence)`\n",
        "- **entrada**: uma string representando uma frase\n",
        "- **retorno**: conjunto de palavras da frase (sem repetição)\n",
        "\n",
        "A **tokenização** é o processo de dividir uma sentença em uma lista de palavras. Nesse exercício, nós vamos implementar uma tokenização simples e alterá-la para que o resultado da nossa tokenização não tenha palavras repetidas.\n"
      ]
    },
    {
      "cell_type": "code",
      "metadata": {
        "id": "3NbNU9PxYbhk",
        "colab": {
          "base_uri": "https://localhost:8080/"
        },
        "outputId": "cdc5ef97-3852-451d-c434-71a623f830ca"
      },
      "source": [
        "#insira seu código aqui\n",
        "def simple_tokenization(sentence):\n",
        "  return {word for word in sentence.split()}\n",
        "\n",
        "# não altere o código abaixo\n",
        "test_sentence = 'I love ice cream as much as I love myself'\n",
        "simple_tokenization(test_sentence)"
      ],
      "execution_count": null,
      "outputs": [
        {
          "output_type": "execute_result",
          "data": {
            "text/plain": [
              "{'I', 'as', 'cream', 'ice', 'love', 'much', 'myself'}"
            ]
          },
          "metadata": {},
          "execution_count": 30
        }
      ]
    },
    {
      "cell_type": "markdown",
      "metadata": {
        "id": "GCMXCobIaXjE"
      },
      "source": [
        "<font color='red'>**Saída esperada:**</font>\n",
        "\n",
        "```py\n",
        "{'I', 'as', 'cream', 'ice', 'love', 'much', 'myself'}\n",
        "```"
      ]
    }
  ]
}