{
  "nbformat": 4,
  "nbformat_minor": 0,
  "metadata": {
    "colab": {
      "provenance": [],
      "include_colab_link": true
    },
    "kernelspec": {
      "name": "python3",
      "display_name": "Python 3"
    },
    "widgets": {
      "application/vnd.jupyter.widget-state+json": {
        "cf244c7ee86241a48def9fbc39a81e45": {
          "model_module": "@jupyter-widgets/controls",
          "model_name": "HBoxModel",
          "model_module_version": "1.5.0",
          "state": {
            "_dom_classes": [],
            "_model_module": "@jupyter-widgets/controls",
            "_model_module_version": "1.5.0",
            "_model_name": "HBoxModel",
            "_view_count": null,
            "_view_module": "@jupyter-widgets/controls",
            "_view_module_version": "1.5.0",
            "_view_name": "HBoxView",
            "box_style": "",
            "children": [
              "IPY_MODEL_8ce1aafe0b474631bdc90339264a91ed",
              "IPY_MODEL_0dbcaeda76644328920ccdaf0aafe2b2",
              "IPY_MODEL_71f28ef27519446da727bfc544b8b46b"
            ],
            "layout": "IPY_MODEL_078c45e327964c6bbc5cad5bb76f1795"
          }
        },
        "8ce1aafe0b474631bdc90339264a91ed": {
          "model_module": "@jupyter-widgets/controls",
          "model_name": "HTMLModel",
          "model_module_version": "1.5.0",
          "state": {
            "_dom_classes": [],
            "_model_module": "@jupyter-widgets/controls",
            "_model_module_version": "1.5.0",
            "_model_name": "HTMLModel",
            "_view_count": null,
            "_view_module": "@jupyter-widgets/controls",
            "_view_module_version": "1.5.0",
            "_view_name": "HTMLView",
            "description": "",
            "description_tooltip": null,
            "layout": "IPY_MODEL_d67ab0fc2cd549e1bf29d6dd17822802",
            "placeholder": "​",
            "style": "IPY_MODEL_912dbb814a8e4cd485287084db713fed",
            "value": "Downloading https://raw.githubusercontent.com/stanfordnlp/stanza-resources/main/resources_1.8.0.json: "
          }
        },
        "0dbcaeda76644328920ccdaf0aafe2b2": {
          "model_module": "@jupyter-widgets/controls",
          "model_name": "FloatProgressModel",
          "model_module_version": "1.5.0",
          "state": {
            "_dom_classes": [],
            "_model_module": "@jupyter-widgets/controls",
            "_model_module_version": "1.5.0",
            "_model_name": "FloatProgressModel",
            "_view_count": null,
            "_view_module": "@jupyter-widgets/controls",
            "_view_module_version": "1.5.0",
            "_view_name": "ProgressView",
            "bar_style": "success",
            "description": "",
            "description_tooltip": null,
            "layout": "IPY_MODEL_ce6521ada705497fa55bc7dede32210d",
            "max": 46416,
            "min": 0,
            "orientation": "horizontal",
            "style": "IPY_MODEL_a90b97293a2643e1801dabcf833ab23e",
            "value": 46416
          }
        },
        "71f28ef27519446da727bfc544b8b46b": {
          "model_module": "@jupyter-widgets/controls",
          "model_name": "HTMLModel",
          "model_module_version": "1.5.0",
          "state": {
            "_dom_classes": [],
            "_model_module": "@jupyter-widgets/controls",
            "_model_module_version": "1.5.0",
            "_model_name": "HTMLModel",
            "_view_count": null,
            "_view_module": "@jupyter-widgets/controls",
            "_view_module_version": "1.5.0",
            "_view_name": "HTMLView",
            "description": "",
            "description_tooltip": null,
            "layout": "IPY_MODEL_2eb74549cc4c4bed81cbecd747b8d30c",
            "placeholder": "​",
            "style": "IPY_MODEL_8f671e71493746f0b594969d9f0dab49",
            "value": " 373k/? [00:00&lt;00:00, 5.65MB/s]"
          }
        },
        "078c45e327964c6bbc5cad5bb76f1795": {
          "model_module": "@jupyter-widgets/base",
          "model_name": "LayoutModel",
          "model_module_version": "1.2.0",
          "state": {
            "_model_module": "@jupyter-widgets/base",
            "_model_module_version": "1.2.0",
            "_model_name": "LayoutModel",
            "_view_count": null,
            "_view_module": "@jupyter-widgets/base",
            "_view_module_version": "1.2.0",
            "_view_name": "LayoutView",
            "align_content": null,
            "align_items": null,
            "align_self": null,
            "border": null,
            "bottom": null,
            "display": null,
            "flex": null,
            "flex_flow": null,
            "grid_area": null,
            "grid_auto_columns": null,
            "grid_auto_flow": null,
            "grid_auto_rows": null,
            "grid_column": null,
            "grid_gap": null,
            "grid_row": null,
            "grid_template_areas": null,
            "grid_template_columns": null,
            "grid_template_rows": null,
            "height": null,
            "justify_content": null,
            "justify_items": null,
            "left": null,
            "margin": null,
            "max_height": null,
            "max_width": null,
            "min_height": null,
            "min_width": null,
            "object_fit": null,
            "object_position": null,
            "order": null,
            "overflow": null,
            "overflow_x": null,
            "overflow_y": null,
            "padding": null,
            "right": null,
            "top": null,
            "visibility": null,
            "width": null
          }
        },
        "d67ab0fc2cd549e1bf29d6dd17822802": {
          "model_module": "@jupyter-widgets/base",
          "model_name": "LayoutModel",
          "model_module_version": "1.2.0",
          "state": {
            "_model_module": "@jupyter-widgets/base",
            "_model_module_version": "1.2.0",
            "_model_name": "LayoutModel",
            "_view_count": null,
            "_view_module": "@jupyter-widgets/base",
            "_view_module_version": "1.2.0",
            "_view_name": "LayoutView",
            "align_content": null,
            "align_items": null,
            "align_self": null,
            "border": null,
            "bottom": null,
            "display": null,
            "flex": null,
            "flex_flow": null,
            "grid_area": null,
            "grid_auto_columns": null,
            "grid_auto_flow": null,
            "grid_auto_rows": null,
            "grid_column": null,
            "grid_gap": null,
            "grid_row": null,
            "grid_template_areas": null,
            "grid_template_columns": null,
            "grid_template_rows": null,
            "height": null,
            "justify_content": null,
            "justify_items": null,
            "left": null,
            "margin": null,
            "max_height": null,
            "max_width": null,
            "min_height": null,
            "min_width": null,
            "object_fit": null,
            "object_position": null,
            "order": null,
            "overflow": null,
            "overflow_x": null,
            "overflow_y": null,
            "padding": null,
            "right": null,
            "top": null,
            "visibility": null,
            "width": null
          }
        },
        "912dbb814a8e4cd485287084db713fed": {
          "model_module": "@jupyter-widgets/controls",
          "model_name": "DescriptionStyleModel",
          "model_module_version": "1.5.0",
          "state": {
            "_model_module": "@jupyter-widgets/controls",
            "_model_module_version": "1.5.0",
            "_model_name": "DescriptionStyleModel",
            "_view_count": null,
            "_view_module": "@jupyter-widgets/base",
            "_view_module_version": "1.2.0",
            "_view_name": "StyleView",
            "description_width": ""
          }
        },
        "ce6521ada705497fa55bc7dede32210d": {
          "model_module": "@jupyter-widgets/base",
          "model_name": "LayoutModel",
          "model_module_version": "1.2.0",
          "state": {
            "_model_module": "@jupyter-widgets/base",
            "_model_module_version": "1.2.0",
            "_model_name": "LayoutModel",
            "_view_count": null,
            "_view_module": "@jupyter-widgets/base",
            "_view_module_version": "1.2.0",
            "_view_name": "LayoutView",
            "align_content": null,
            "align_items": null,
            "align_self": null,
            "border": null,
            "bottom": null,
            "display": null,
            "flex": null,
            "flex_flow": null,
            "grid_area": null,
            "grid_auto_columns": null,
            "grid_auto_flow": null,
            "grid_auto_rows": null,
            "grid_column": null,
            "grid_gap": null,
            "grid_row": null,
            "grid_template_areas": null,
            "grid_template_columns": null,
            "grid_template_rows": null,
            "height": null,
            "justify_content": null,
            "justify_items": null,
            "left": null,
            "margin": null,
            "max_height": null,
            "max_width": null,
            "min_height": null,
            "min_width": null,
            "object_fit": null,
            "object_position": null,
            "order": null,
            "overflow": null,
            "overflow_x": null,
            "overflow_y": null,
            "padding": null,
            "right": null,
            "top": null,
            "visibility": null,
            "width": null
          }
        },
        "a90b97293a2643e1801dabcf833ab23e": {
          "model_module": "@jupyter-widgets/controls",
          "model_name": "ProgressStyleModel",
          "model_module_version": "1.5.0",
          "state": {
            "_model_module": "@jupyter-widgets/controls",
            "_model_module_version": "1.5.0",
            "_model_name": "ProgressStyleModel",
            "_view_count": null,
            "_view_module": "@jupyter-widgets/base",
            "_view_module_version": "1.2.0",
            "_view_name": "StyleView",
            "bar_color": null,
            "description_width": ""
          }
        },
        "2eb74549cc4c4bed81cbecd747b8d30c": {
          "model_module": "@jupyter-widgets/base",
          "model_name": "LayoutModel",
          "model_module_version": "1.2.0",
          "state": {
            "_model_module": "@jupyter-widgets/base",
            "_model_module_version": "1.2.0",
            "_model_name": "LayoutModel",
            "_view_count": null,
            "_view_module": "@jupyter-widgets/base",
            "_view_module_version": "1.2.0",
            "_view_name": "LayoutView",
            "align_content": null,
            "align_items": null,
            "align_self": null,
            "border": null,
            "bottom": null,
            "display": null,
            "flex": null,
            "flex_flow": null,
            "grid_area": null,
            "grid_auto_columns": null,
            "grid_auto_flow": null,
            "grid_auto_rows": null,
            "grid_column": null,
            "grid_gap": null,
            "grid_row": null,
            "grid_template_areas": null,
            "grid_template_columns": null,
            "grid_template_rows": null,
            "height": null,
            "justify_content": null,
            "justify_items": null,
            "left": null,
            "margin": null,
            "max_height": null,
            "max_width": null,
            "min_height": null,
            "min_width": null,
            "object_fit": null,
            "object_position": null,
            "order": null,
            "overflow": null,
            "overflow_x": null,
            "overflow_y": null,
            "padding": null,
            "right": null,
            "top": null,
            "visibility": null,
            "width": null
          }
        },
        "8f671e71493746f0b594969d9f0dab49": {
          "model_module": "@jupyter-widgets/controls",
          "model_name": "DescriptionStyleModel",
          "model_module_version": "1.5.0",
          "state": {
            "_model_module": "@jupyter-widgets/controls",
            "_model_module_version": "1.5.0",
            "_model_name": "DescriptionStyleModel",
            "_view_count": null,
            "_view_module": "@jupyter-widgets/base",
            "_view_module_version": "1.2.0",
            "_view_name": "StyleView",
            "description_width": ""
          }
        }
      }
    }
  },
  "cells": [
    {
      "cell_type": "markdown",
      "metadata": {
        "id": "view-in-github",
        "colab_type": "text"
      },
      "source": [
        "<a href=\"https://colab.research.google.com/github/huggoparcelly/rec-info/blob/main/Huggo_Parcelly_Processamento_de_Texto_(Alunos).ipynb\" target=\"_parent\"><img src=\"https://colab.research.google.com/assets/colab-badge.svg\" alt=\"Open In Colab\"/></a>"
      ]
    },
    {
      "cell_type": "markdown",
      "metadata": {
        "id": "WRM4kEujWfvh"
      },
      "source": [
        "# Processamento de Texto\n",
        "\n",
        "Nesse notebook, nós vamos ver na prática como podemos aplicar algumas técnicas de processamento de texto programaticamente, usando algumas bibliotecas conhecidas."
      ]
    },
    {
      "cell_type": "markdown",
      "source": [
        "## NLTK"
      ],
      "metadata": {
        "id": "eY-6nQzpHdyJ"
      }
    },
    {
      "cell_type": "markdown",
      "source": [
        "Vamos começar usando a biblioteca  [NLTK (Natural Language Toolkit)](https://www.nltk.org/)."
      ],
      "metadata": {
        "id": "O_QLfxFRHX4k"
      }
    },
    {
      "cell_type": "markdown",
      "source": [
        "Primeiramente, vamos importar as bibliotecas python que vamos usar nesse tutorial:"
      ],
      "metadata": {
        "id": "wCkjpU7yGbPy"
      }
    },
    {
      "cell_type": "code",
      "metadata": {
        "id": "EJ5lxzoWTTkH"
      },
      "source": [
        "import matplotlib.pyplot as plt\n",
        "import nltk\n",
        "from nltk.corpus import stopwords\n",
        "from nltk.corpus import wordnet\n",
        "from nltk.probability import FreqDist\n",
        "from nltk.stem import PorterStemmer, SnowballStemmer, WordNetLemmatizer\n",
        "from nltk.tokenize import sent_tokenize, word_tokenize\n",
        "\n",
        "%matplotlib inline"
      ],
      "execution_count": null,
      "outputs": []
    },
    {
      "cell_type": "markdown",
      "metadata": {
        "id": "TSEiZiM-WyDH"
      },
      "source": [
        "e vamos fazer o download de alguns módulos específicos do NLTK:"
      ]
    },
    {
      "cell_type": "code",
      "metadata": {
        "id": "oovkh3xLWVob",
        "colab": {
          "base_uri": "https://localhost:8080/"
        },
        "outputId": "78b9df90-cfc3-45b8-8b9d-210cda26f601"
      },
      "source": [
        "nltk.download('averaged_perceptron_tagger')\n",
        "nltk.download('punkt')\n",
        "nltk.download('stopwords')\n",
        "nltk.download('wordnet')\n",
        "nltk.download('omw-1.4')"
      ],
      "execution_count": null,
      "outputs": [
        {
          "output_type": "stream",
          "name": "stderr",
          "text": [
            "[nltk_data] Downloading package averaged_perceptron_tagger to\n",
            "[nltk_data]     /root/nltk_data...\n",
            "[nltk_data]   Unzipping taggers/averaged_perceptron_tagger.zip.\n",
            "[nltk_data] Downloading package punkt to /root/nltk_data...\n",
            "[nltk_data]   Unzipping tokenizers/punkt.zip.\n",
            "[nltk_data] Downloading package stopwords to /root/nltk_data...\n",
            "[nltk_data]   Unzipping corpora/stopwords.zip.\n",
            "[nltk_data] Downloading package wordnet to /root/nltk_data...\n",
            "[nltk_data] Downloading package omw-1.4 to /root/nltk_data...\n"
          ]
        },
        {
          "output_type": "execute_result",
          "data": {
            "text/plain": [
              "True"
            ]
          },
          "metadata": {},
          "execution_count": 2
        }
      ]
    },
    {
      "cell_type": "markdown",
      "metadata": {
        "id": "qTvWr6xRTmlt"
      },
      "source": [
        "### Tokenization"
      ]
    },
    {
      "cell_type": "markdown",
      "metadata": {
        "id": "iq1pPGC5UUPC"
      },
      "source": [
        "#### Sentence Tokenization"
      ]
    },
    {
      "cell_type": "code",
      "metadata": {
        "id": "cN91rVCVTjEe",
        "colab": {
          "base_uri": "https://localhost:8080/"
        },
        "outputId": "57d60afc-100b-4b98-d196-28137d355947"
      },
      "source": [
        "text = \"\"\"Hello Mr. Smith, how are you doing today?\n",
        "    The weather is great, and city is awesome.\n",
        "    The sky is pinkish-blue. You shouldn't eat cardboard\n",
        "\"\"\"\n",
        "\n",
        "tokenized_sent = sent_tokenize(text)\n",
        "print(tokenized_sent)"
      ],
      "execution_count": null,
      "outputs": [
        {
          "output_type": "stream",
          "name": "stdout",
          "text": [
            "['Hello Mr. Smith, how are you doing today?', 'The weather is great, and city is awesome.', 'The sky is pinkish-blue.', \"You shouldn't eat cardboard\"]\n"
          ]
        }
      ]
    },
    {
      "cell_type": "markdown",
      "metadata": {
        "id": "n_Mjh26VvwoI"
      },
      "source": [
        "Nós também podemos tokenizar outras linguas:"
      ]
    },
    {
      "cell_type": "code",
      "metadata": {
        "id": "ppCFC0KivJFB",
        "colab": {
          "base_uri": "https://localhost:8080/"
        },
        "outputId": "31af7c0a-d5c7-46a8-bf81-7a9a600518eb"
      },
      "source": [
        "portuguese_text = \"Bom dia, Sr. Smith. Como você está? O tempo está bom, e a cidade maravilhosa.\"\n",
        "\n",
        "print(sent_tokenize(portuguese_text, \"portuguese\"))"
      ],
      "execution_count": null,
      "outputs": [
        {
          "output_type": "stream",
          "name": "stdout",
          "text": [
            "['Bom dia, Sr. Smith.', 'Como você está?', 'O tempo está bom, e a cidade maravilhosa.']\n"
          ]
        }
      ]
    },
    {
      "cell_type": "markdown",
      "metadata": {
        "id": "ZC8SE9fOUW5m"
      },
      "source": [
        "#### Word Tokenization"
      ]
    },
    {
      "cell_type": "code",
      "metadata": {
        "id": "uKu1A9cyT6UA",
        "colab": {
          "base_uri": "https://localhost:8080/"
        },
        "outputId": "08fa1bd2-baeb-45d2-c516-dba490312649"
      },
      "source": [
        "tokenized_word = word_tokenize(text)\n",
        "print(tokenized_word)"
      ],
      "execution_count": null,
      "outputs": [
        {
          "output_type": "stream",
          "name": "stdout",
          "text": [
            "['Hello', 'Mr.', 'Smith', ',', 'how', 'are', 'you', 'doing', 'today', '?', 'The', 'weather', 'is', 'great', ',', 'and', 'city', 'is', 'awesome', '.', 'The', 'sky', 'is', 'pinkish-blue', '.', 'You', 'should', \"n't\", 'eat', 'cardboard']\n"
          ]
        }
      ]
    },
    {
      "cell_type": "markdown",
      "source": [
        "No exemplo acima, a tokenização de palavras foi aplicada ao texto inteiro. Porém, normalmente, o fluxo adotado é aplicar a tokenização nas sentenças e, em seguida, aplicar nas palavras de cada sentença."
      ],
      "metadata": {
        "id": "W13RA9WxEuZV"
      }
    },
    {
      "cell_type": "markdown",
      "source": [
        "### Remoção de Pontuação\n",
        "\n",
        "Remova a pontuação das sentenças 'tokenizadas', antes de aplicar o tokenizador de palavras.\n",
        "\n",
        "**Veja exemplos abaixo:**"
      ],
      "metadata": {
        "id": "gpateeX66-kw"
      }
    },
    {
      "cell_type": "markdown",
      "source": [
        "**EXEMPLO 1**\n",
        "\n",
        "Um dos [tipos de tokenizer oferecidos pelo NLTK](http://www.nltk.org/api/nltk.tokenize.html) é baseado em Expressões Regulares (Regex).\n",
        "Então, por exemplo, você pode definir um tokenizer que detecta sequências de caracteres alfanuméricos como tokens e descarta todo o resto:"
      ],
      "metadata": {
        "id": "DvoZgrQFCW1w"
      }
    },
    {
      "cell_type": "code",
      "source": [
        "from nltk.tokenize import RegexpTokenizer\n",
        "\n",
        "text = \"\"\"Hello Mr. Smith, how are you doing today?\n",
        "    Here the weather is great, the temperature is 25 degrees celsius and today's IR Lab is awesome.\n",
        "    You should come and enjoy this joy-filled environment!\n",
        "\"\"\"\n",
        "\n",
        "tokenized_sent = sent_tokenize(text)\n",
        "\n",
        "tokenizer = RegexpTokenizer(r'\\w+') #ou r'[a-zA-Z]+' se não quiser incluir números e underscore, pois \\w+ equivale a [a-zA-Z0-9_]+\n",
        "for sent in tokenized_sent:\n",
        "  sent_without_punct = tokenizer.tokenize(sent)\n",
        "  print(sent_without_punct)"
      ],
      "metadata": {
        "id": "jlPRQUMgBwr5",
        "colab": {
          "base_uri": "https://localhost:8080/"
        },
        "outputId": "c5c2f987-82b7-4470-df1c-85982cd7f5d9"
      },
      "execution_count": null,
      "outputs": [
        {
          "output_type": "stream",
          "name": "stdout",
          "text": [
            "['Hello', 'Mr', 'Smith', 'how', 'are', 'you', 'doing', 'today']\n",
            "['Here', 'the', 'weather', 'is', 'great', 'the', 'temperature', 'is', '25', 'degrees', 'celsius', 'and', 'today', 's', 'IR', 'Lab', 'is', 'awesome']\n",
            "['You', 'should', 'come', 'and', 'enjoy', 'this', 'joy', 'filled', 'environment']\n"
          ]
        }
      ]
    },
    {
      "cell_type": "markdown",
      "source": [
        "**EXEMPLO 2**\n",
        "\n",
        "Ou dessa outra forma, em puro python:"
      ],
      "metadata": {
        "id": "aJUFdwQxDw3J"
      }
    },
    {
      "cell_type": "code",
      "source": [
        "import string\n",
        "text = \"\"\"Hello Mr. Smith, how are you doing today?\n",
        "    Here the weather is great, the temperature is 25 degrees celsius and today's IR Lab is awesome.\n",
        "    You should come and enjoy this joy-filled environment!\n",
        "\"\"\"\n",
        "unicode_translate_table = dict((ord(char), None) for char in string.punctuation)\n",
        "\n",
        "tokenized_sent = sent_tokenize(text)\n",
        "\n",
        "for sent in tokenized_sent:\n",
        "  sent_without_punct = sent.translate(unicode_translate_table)\n",
        "  print(sent_without_punct)"
      ],
      "metadata": {
        "id": "lAWhhJimDIX5",
        "colab": {
          "base_uri": "https://localhost:8080/"
        },
        "outputId": "73b09c33-9958-4c5e-f2b6-9767c6c150c8"
      },
      "execution_count": null,
      "outputs": [
        {
          "output_type": "stream",
          "name": "stdout",
          "text": [
            "Hello Mr Smith how are you doing today\n",
            "Here the weather is great the temperature is 25 degrees celsius and todays IR Lab is awesome\n",
            "You should come and enjoy this joyfilled environment\n"
          ]
        }
      ]
    },
    {
      "cell_type": "markdown",
      "source": [
        "**EXEMPLO 3**\n",
        "\n",
        "Uma outra alternativa é usar `isalpha()` ou `isalnum()`. Neste caso, você deve aplicar depois da tokenização de palavras, para remover as que não se adequem."
      ],
      "metadata": {
        "id": "XzlSatg8D1g7"
      }
    },
    {
      "cell_type": "code",
      "source": [
        "text = \"\"\"Hello Mr. Smith, how are you doing today?\n",
        "    Here the weather is great, the temperature is 25 degrees celsius and today's IR Lab is awesome.\n",
        "    You should come and enjoy this joy-filled environment!\n",
        "\"\"\"\n",
        "\n",
        "tokens = [word.lower() for sent in sent_tokenize(text) for word in word_tokenize(sent) if word.isalnum()] #também converte para lowercase\n",
        "print(*tokens)"
      ],
      "metadata": {
        "id": "muBw507rD5gx",
        "colab": {
          "base_uri": "https://localhost:8080/"
        },
        "outputId": "7a05d3e9-03a8-49b5-f63e-a4c1a428f90c"
      },
      "execution_count": null,
      "outputs": [
        {
          "output_type": "stream",
          "name": "stdout",
          "text": [
            "hello smith how are you doing today here the weather is great the temperature is 25 degrees celsius and today ir lab is awesome you should come and enjoy this environment\n"
          ]
        }
      ]
    },
    {
      "cell_type": "markdown",
      "source": [
        "### Expanção das contrações (contractions)\n"
      ],
      "metadata": {
        "id": "8ATx-MLUOBQC"
      }
    },
    {
      "cell_type": "code",
      "source": [
        "!pip install contractions"
      ],
      "metadata": {
        "id": "yD23HQ6WN4e2",
        "colab": {
          "base_uri": "https://localhost:8080/"
        },
        "outputId": "3df50227-59aa-4db3-a24e-6d6b0029b157"
      },
      "execution_count": null,
      "outputs": [
        {
          "output_type": "stream",
          "name": "stdout",
          "text": [
            "Collecting contractions\n",
            "  Downloading contractions-0.1.73-py2.py3-none-any.whl (8.7 kB)\n",
            "Collecting textsearch>=0.0.21 (from contractions)\n",
            "  Downloading textsearch-0.0.24-py2.py3-none-any.whl (7.6 kB)\n",
            "Collecting anyascii (from textsearch>=0.0.21->contractions)\n",
            "  Downloading anyascii-0.3.2-py3-none-any.whl (289 kB)\n",
            "\u001b[2K     \u001b[90m━━━━━━━━━━━━━━━━━━━━━━━━━━━━━━━━━━━━━━━━\u001b[0m \u001b[32m289.9/289.9 kB\u001b[0m \u001b[31m5.1 MB/s\u001b[0m eta \u001b[36m0:00:00\u001b[0m\n",
            "\u001b[?25hCollecting pyahocorasick (from textsearch>=0.0.21->contractions)\n",
            "  Downloading pyahocorasick-2.0.0-cp310-cp310-manylinux_2_5_x86_64.manylinux1_x86_64.manylinux_2_12_x86_64.manylinux2010_x86_64.whl (110 kB)\n",
            "\u001b[2K     \u001b[90m━━━━━━━━━━━━━━━━━━━━━━━━━━━━━━━━━━━━━━━━\u001b[0m \u001b[32m110.8/110.8 kB\u001b[0m \u001b[31m6.2 MB/s\u001b[0m eta \u001b[36m0:00:00\u001b[0m\n",
            "\u001b[?25hInstalling collected packages: pyahocorasick, anyascii, textsearch, contractions\n",
            "Successfully installed anyascii-0.3.2 contractions-0.1.73 pyahocorasick-2.0.0 textsearch-0.0.24\n"
          ]
        }
      ]
    },
    {
      "cell_type": "code",
      "source": [
        "import contractions\n",
        "\n",
        "contractions.fix(\"I'll show you a simple example, it's easy to understand. \\\n",
        "I don't wanna show anything else because I'm lazy. I'm gonna stop writing now. \\\n",
        "I'd love to stay, but I've got to go! I gotta go! Shouldn't you go too? \\\n",
        "No, I know you are enjoying today's IR Lab!!\")"
      ],
      "metadata": {
        "id": "NjvzWlkANjAg",
        "colab": {
          "base_uri": "https://localhost:8080/",
          "height": 53
        },
        "outputId": "40008681-33c0-4b07-9793-33299392a2b5"
      },
      "execution_count": null,
      "outputs": [
        {
          "output_type": "execute_result",
          "data": {
            "text/plain": [
              "\"I will show you a simple example, it is easy to understand. I do not want to show anything else because I am lazy. I am going to stop writing now. I would love to stay, but I have got to go! I got to go! Should not you go too? No, I know you are enjoying today's IR Lab!!\""
            ],
            "application/vnd.google.colaboratory.intrinsic+json": {
              "type": "string"
            }
          },
          "metadata": {},
          "execution_count": 23
        }
      ]
    },
    {
      "cell_type": "markdown",
      "metadata": {
        "id": "piaQxNKNU1iK"
      },
      "source": [
        "### Frequency Distribution"
      ]
    },
    {
      "cell_type": "code",
      "metadata": {
        "id": "1eeQxpDbUlgY",
        "colab": {
          "base_uri": "https://localhost:8080/"
        },
        "outputId": "48c5c889-454c-4788-8d1a-72d4e0d03b6a"
      },
      "source": [
        "fdist = FreqDist(tokenized_word)\n",
        "print(fdist)"
      ],
      "execution_count": null,
      "outputs": [
        {
          "output_type": "stream",
          "name": "stdout",
          "text": [
            "<FreqDist with 25 samples and 30 outcomes>\n"
          ]
        }
      ]
    },
    {
      "cell_type": "code",
      "metadata": {
        "id": "qSb_NDcQtZyk",
        "colab": {
          "base_uri": "https://localhost:8080/"
        },
        "outputId": "295dd274-166e-45af-e7ca-eb29f06184ad"
      },
      "source": [
        "fdist"
      ],
      "execution_count": null,
      "outputs": [
        {
          "output_type": "execute_result",
          "data": {
            "text/plain": [
              "FreqDist({'is': 3, ',': 2, 'The': 2, '.': 2, 'Hello': 1, 'Mr.': 1, 'Smith': 1, 'how': 1, 'are': 1, 'you': 1, ...})"
            ]
          },
          "metadata": {},
          "execution_count": 25
        }
      ]
    },
    {
      "cell_type": "code",
      "metadata": {
        "id": "daJrFuZ1VL97",
        "colab": {
          "base_uri": "https://localhost:8080/"
        },
        "outputId": "46f130b1-fc60-4294-a52e-eedcdd1ae319"
      },
      "source": [
        "fdist.most_common(5)"
      ],
      "execution_count": null,
      "outputs": [
        {
          "output_type": "execute_result",
          "data": {
            "text/plain": [
              "[('is', 3), (',', 2), ('The', 2), ('.', 2), ('Hello', 1)]"
            ]
          },
          "metadata": {},
          "execution_count": 26
        }
      ]
    },
    {
      "cell_type": "code",
      "metadata": {
        "id": "TVWsTFL4VSwB",
        "colab": {
          "base_uri": "https://localhost:8080/",
          "height": 520
        },
        "outputId": "2a7c73e8-6784-449f-9ee6-7dcf3fb3dca6"
      },
      "source": [
        "fdist.plot(30, cumulative=False)\n",
        "plt.show()"
      ],
      "execution_count": null,
      "outputs": [
        {
          "output_type": "display_data",
          "data": {
            "text/plain": [
              "<Figure size 640x480 with 1 Axes>"
            ],
            "image/png": "[encoded data removed]"
          },
          "metadata": {}
        }
      ]
    },
    {
      "cell_type": "markdown",
      "metadata": {
        "id": "p7FppDhwVx_d"
      },
      "source": [
        "### Stopwords"
      ]
    },
    {
      "cell_type": "code",
      "metadata": {
        "id": "9miqaLILVjKz",
        "colab": {
          "base_uri": "https://localhost:8080/"
        },
        "outputId": "3445a904-4d6f-433f-b9d7-ab3ee4605abc"
      },
      "source": [
        "stop_words = set(stopwords.words(\"english\"))\n",
        "\n",
        "print(stop_words)"
      ],
      "execution_count": null,
      "outputs": [
        {
          "output_type": "stream",
          "name": "stdout",
          "text": [
            "{'we', 'll', 'how', 'after', 'before', 'why', \"mustn't\", \"wasn't\", 'which', 'ours', 'below', 'no', 'can', 'theirs', 'both', 'to', 'do', 'this', 'once', 'the', 'when', 'now', 'and', 'doing', 'where', 'yours', 'their', 'that', 'for', 'mightn', 'its', 'as', 'wouldn', 'down', 'm', 'or', 'above', 'doesn', 'a', \"shouldn't\", 'while', 'will', \"you're\", 'ain', 've', 'very', 'up', 'being', 'whom', 'was', 'has', 'with', 'all', 'each', \"she's\", \"isn't\", 'shan', 'between', 'it', \"needn't\", 'hadn', \"shan't\", 'hasn', \"don't\", 'in', 'just', \"weren't\", 'yourselves', 'about', 'were', 'are', 'further', 'some', 'off', 'against', 'my', \"couldn't\", 'having', 'weren', 'have', 'but', 'by', 'he', 'until', 'into', 'nor', 'same', 're', 'ourselves', \"you've\", 'y', 'i', 'then', 'his', 'what', 'ma', 'myself', 'yourself', 'those', 'them', \"that'll\", 'isn', 'because', 'not', 'on', 'here', 'needn', 'our', 'few', 'been', 'your', 'am', 'only', 'wasn', 'aren', 'such', 'than', 'she', 'out', 'an', 'd', 'me', 'who', 'is', 'other', \"hadn't\", 'won', 'these', 'there', 'should', 's', 'had', 'you', \"it's\", \"you'll\", 'at', 'so', 'too', \"aren't\", 'o', 'himself', 'couldn', 'most', \"didn't\", 'itself', 'again', 'during', 'didn', 'don', \"should've\", \"won't\", 'under', \"haven't\", \"you'd\", 'him', 'haven', 'did', 'any', \"doesn't\", 'herself', \"hasn't\", 'of', 'hers', 'they', 'over', 'more', 'own', \"wouldn't\", 'be', 'shouldn', 'themselves', 'through', 'mustn', 'if', 'her', 'does', 't', 'from', \"mightn't\"}\n"
          ]
        }
      ]
    },
    {
      "cell_type": "markdown",
      "source": [
        "**TODO**: A partir da lista de palavras tokenizadas acima, gere uma nova lista de palavras que não contém stop words (use list  comprehension)"
      ],
      "metadata": {
        "id": "ITwOW8B3ezJ7"
      }
    },
    {
      "cell_type": "code",
      "metadata": {
        "id": "2abEeQF8moH6",
        "colab": {
          "base_uri": "https://localhost:8080/"
        },
        "outputId": "808b0162-762b-49a9-e448-dc38e7b281c5"
      },
      "source": [
        "filtered_words =  [word for word in tokenized_word if word not in stop_words]\n",
        "\n",
        "print(\"Tokenized Words:\", tokenized_word)\n",
        "print(\"Filterd Sentence:\", filtered_words)"
      ],
      "execution_count": null,
      "outputs": [
        {
          "output_type": "stream",
          "name": "stdout",
          "text": [
            "Tokenized Words: ['Hello', 'Mr.', 'Smith', ',', 'how', 'are', 'you', 'doing', 'today', '?', 'The', 'weather', 'is', 'great', ',', 'and', 'city', 'is', 'awesome', '.', 'The', 'sky', 'is', 'pinkish-blue', '.', 'You', 'should', \"n't\", 'eat', 'cardboard']\n",
            "Filterd Sentence: ['Hello', 'Mr.', 'Smith', ',', 'today', '?', 'The', 'weather', 'great', ',', 'city', 'awesome', '.', 'The', 'sky', 'pinkish-blue', '.', 'You', \"n't\", 'eat', 'cardboard']\n"
          ]
        }
      ]
    },
    {
      "cell_type": "markdown",
      "metadata": {
        "id": "bCVPWBAgoLLn"
      },
      "source": [
        "### Stemming"
      ]
    },
    {
      "cell_type": "markdown",
      "metadata": {
        "id": "uvVgjJh1oRwo"
      },
      "source": [
        "A **Stemming** reduz as palavras aos seus radicais. Por exemplo, as palavras *connection*, *connected*, *connecting* serão reduzidas a \"*connect*\". Há diversos algoritmos de stemming, mas o mais famoso é o `Porter stemming`."
      ]
    },
    {
      "cell_type": "code",
      "metadata": {
        "id": "5BG9nZY_m-xK",
        "colab": {
          "base_uri": "https://localhost:8080/"
        },
        "outputId": "f538cb09-8986-413f-94ef-e9ee43e3d8fb"
      },
      "source": [
        "example_words = ['connection', 'connected', 'connecting']\n",
        "\n",
        "ps = PorterStemmer()\n",
        "\n",
        "stemmed_words = [ps.stem(w) for w in example_words]\n",
        "\n",
        "print(\"Example words:\", example_words)\n",
        "print(\"Stemmed words:\", stemmed_words)"
      ],
      "execution_count": null,
      "outputs": [
        {
          "output_type": "stream",
          "name": "stdout",
          "text": [
            "Example words: ['connection', 'connected', 'connecting']\n",
            "Stemmed words: ['connect', 'connect', 'connect']\n"
          ]
        }
      ]
    },
    {
      "cell_type": "markdown",
      "metadata": {
        "id": "NbHqJ4mBwwtf"
      },
      "source": [
        "O algoritmo `SnowBall` pode faz o processo de stemming em até 13 línguas diferentes:"
      ]
    },
    {
      "cell_type": "code",
      "metadata": {
        "id": "RKehdjzfwoPz",
        "colab": {
          "base_uri": "https://localhost:8080/"
        },
        "outputId": "1553be8f-05f4-4478-91d0-b3de1dcce5e5"
      },
      "source": [
        "print(SnowballStemmer.languages)"
      ],
      "execution_count": null,
      "outputs": [
        {
          "output_type": "stream",
          "name": "stdout",
          "text": [
            "('arabic', 'danish', 'dutch', 'english', 'finnish', 'french', 'german', 'hungarian', 'italian', 'norwegian', 'porter', 'portuguese', 'romanian', 'russian', 'spanish', 'swedish')\n"
          ]
        }
      ]
    },
    {
      "cell_type": "markdown",
      "source": [
        "Vamos ver como funciona em português!\n",
        "\n",
        "**TODO:** Crie 4 listas de palavras em português contendo radicais similares (cada lista deve conter ao menos 2 palavras - preferencialmente 3 ou mais).\n",
        "\n",
        "Para cada uma das listas, gere uma outra lista com termos equivalentes \"stemizados\".\n",
        "\n",
        "Suas listas originais devem conter palavras que gerem stems do tipo: verdadeiros positivos, verdadeiros negativos, falsos positivos, falsos negativos.\n",
        "\n",
        "tp = você acha que o resultado do stemmer deve ser os mesmo para todos os termos da lista (e confirma que é em tp_stemmed)\n",
        "\n",
        "tn = mas você acha que o resultado do stemmer deve ser diferente para todos os termos da lista, embora os radicais sejam similares (e confirma que são em tn_stemmed)\n",
        "\n",
        "fp = você acha que o resultado do stemmer deve ser diferente para todos os termos da lista (mas percebe em fp_stemmed que são iguais)\n",
        "\n",
        "fn = você acha que o resultado do stemmer deve ser igual para todos os termos da lista (mas percebe em fn_stemmed que são diferentes)"
      ],
      "metadata": {
        "id": "52tj6B2OgbGE"
      }
    },
    {
      "cell_type": "code",
      "metadata": {
        "id": "rKjqElS9xTCv",
        "colab": {
          "base_uri": "https://localhost:8080/"
        },
        "outputId": "bbe84a80-3e29-4b29-b4dc-476239687fb1"
      },
      "source": [
        "tp = ['passar', 'passaria', 'passou', 'passando']\n",
        "tn = ['maçaneta', 'maçaroca', 'maçã-verde']\n",
        "fp = ['planta', 'plantava', 'plantou', 'plantar', 'plantas']\n",
        "fn = ['maquineta','maquina', 'maquinario']\n",
        "\n",
        "ss = SnowballStemmer(\"portuguese\")\n",
        "\n",
        "tp_stemmed = [ss.stem(w) for w in tp]\n",
        "tn_stemmed = [ss.stem(w) for w in tn]\n",
        "fp_stemmed = [ss.stem(w) for w in fp]\n",
        "fn_stemmed = [ss.stem(w) for w in fn]\n",
        "\n",
        "print('TP Stemmed:', tp_stemmed)\n",
        "print('TN Stemmed:', tn_stemmed)\n",
        "print('FP Stemmed:', fp_stemmed)\n",
        "print('FN Stemmed:', fn_stemmed)"
      ],
      "execution_count": null,
      "outputs": [
        {
          "output_type": "stream",
          "name": "stdout",
          "text": [
            "TP Stemmed: ['pass', 'pass', 'pass', 'pass']\n",
            "TN Stemmed: ['maçanet', 'maçaroc', 'maçã-verd']\n",
            "FP Stemmed: ['plant', 'plant', 'plant', 'plant', 'plant']\n",
            "FN Stemmed: ['maquinet', 'maquin', 'maquinari']\n"
          ]
        }
      ]
    },
    {
      "cell_type": "markdown",
      "metadata": {
        "id": "2v-4jMBmyj35"
      },
      "source": [
        "### Lemmatization\n",
        "\n",
        "Vamos comparatar a saída do Stemmer e do Lemmatizer"
      ]
    },
    {
      "cell_type": "code",
      "metadata": {
        "id": "fGa59T4DyjfX",
        "colab": {
          "base_uri": "https://localhost:8080/"
        },
        "outputId": "4f815306-fb72-4002-fc31-de11edbae577"
      },
      "source": [
        "stemmer = PorterStemmer()\n",
        "for item in ['am' ,'are' ,'is','was','were']:\n",
        "    print(stemmer.stem(item),end='\\t')"
      ],
      "execution_count": null,
      "outputs": [
        {
          "output_type": "stream",
          "name": "stdout",
          "text": [
            "am\tare\tis\twa\twere\t"
          ]
        }
      ]
    },
    {
      "cell_type": "code",
      "source": [
        "lemmatizer = WordNetLemmatizer( )\n",
        "for item in ['am' ,'are' ,'is','was','were']:\n",
        "    print(lemmatizer.lemmatize(item),end='\\t')"
      ],
      "metadata": {
        "id": "nJ8C2Ib6owRK",
        "colab": {
          "base_uri": "https://localhost:8080/"
        },
        "outputId": "c8d364a1-38cb-41ee-fd5b-26ec2ee1ec76"
      },
      "execution_count": null,
      "outputs": [
        {
          "output_type": "stream",
          "name": "stdout",
          "text": [
            "am\tare\tis\twa\twere\t"
          ]
        }
      ]
    },
    {
      "cell_type": "markdown",
      "source": [
        "Esperava uma resposta diferente acima? Esperava que as saídas fossem todas \"be\" ?\n",
        "\n",
        "Esse problema acontece porque o lamatizador não sabe que estamos tratando de um verbo!"
      ],
      "metadata": {
        "id": "HooZTWn9oz2D"
      }
    },
    {
      "cell_type": "markdown",
      "source": [
        "**TODO:** Faça um código equivalente ao anterior (trecho da lematização), porém, passando o valor 'v' (Verbo) no parâmetro `pos` (Part-Of-Spreech).  "
      ],
      "metadata": {
        "id": "HOjsYADlpbJR"
      }
    },
    {
      "cell_type": "code",
      "metadata": {
        "id": "z2t99kdF0Odw",
        "colab": {
          "base_uri": "https://localhost:8080/"
        },
        "outputId": "0d44ab5b-d67b-4759-c1bb-2c3990e094ed"
      },
      "source": [
        "#seu código aqui\n",
        "lemmatizer = WordNetLemmatizer( )\n",
        "for item in ['am' ,'are' ,'is','was','were']:\n",
        "    print(lemmatizer.lemmatize(item, pos='v'),end='\\t')"
      ],
      "execution_count": null,
      "outputs": [
        {
          "output_type": "stream",
          "name": "stdout",
          "text": [
            "be\tbe\tbe\tbe\tbe\t"
          ]
        }
      ]
    },
    {
      "cell_type": "markdown",
      "source": [
        "**TODO:** Agora faça um código equivalente ao anterior, porém, passando a constante wordnet.VERB no parâmetro `pos` (Part-Of-Spreech).  "
      ],
      "metadata": {
        "id": "yejCxHZHp4UF"
      }
    },
    {
      "cell_type": "code",
      "source": [
        "#seu código aqui\n",
        "lemmatizer = WordNetLemmatizer( )\n",
        "for item in ['am' ,'are' ,'is','was','were']:\n",
        "    print(lemmatizer.lemmatize(item, pos=wordnet.VERB),end='\\t')"
      ],
      "metadata": {
        "id": "Cz7jRYQ-oMhO",
        "colab": {
          "base_uri": "https://localhost:8080/"
        },
        "outputId": "f516f2b6-d70f-4abe-ee97-26259396b491"
      },
      "execution_count": null,
      "outputs": [
        {
          "output_type": "stream",
          "name": "stdout",
          "text": [
            "be\tbe\tbe\tbe\tbe\t"
          ]
        }
      ]
    },
    {
      "cell_type": "markdown",
      "metadata": {
        "id": "0X2KHx2JqX18"
      },
      "source": [
        "### POS Tagging"
      ]
    },
    {
      "cell_type": "markdown",
      "source": [
        "Conjunto de Tags Baseado no [Penn Treebank Tag Set](https://www.ling.upenn.edu/courses/Fall_2003/ling001/penn_treebank_pos.html)"
      ],
      "metadata": {
        "id": "oPUnW1TmKxVS"
      }
    },
    {
      "cell_type": "code",
      "metadata": {
        "id": "ZcoQOxHepioT",
        "colab": {
          "base_uri": "https://localhost:8080/"
        },
        "outputId": "deafb14d-cc59-4442-8335-04c0de5023c8"
      },
      "source": [
        "sent = \"Albert Einstein was born in Ulm, Germany, in 1879.\"\n",
        "\n",
        "tokens = nltk.word_tokenize(sent)\n",
        "print('Sentence:', tokens)\n",
        "print(nltk.pos_tag(tokens))"
      ],
      "execution_count": null,
      "outputs": [
        {
          "output_type": "stream",
          "name": "stdout",
          "text": [
            "Sentence: ['Albert', 'Einstein', 'was', 'born', 'in', 'Ulm', ',', 'Germany', ',', 'in', '1879', '.']\n",
            "[('Albert', 'NNP'), ('Einstein', 'NNP'), ('was', 'VBD'), ('born', 'VBN'), ('in', 'IN'), ('Ulm', 'NNP'), (',', ','), ('Germany', 'NNP'), (',', ','), ('in', 'IN'), ('1879', 'CD'), ('.', '.')]\n"
          ]
        }
      ]
    },
    {
      "cell_type": "markdown",
      "source": [
        "**TODO:** Formule uma frase (mesmo que não faça sentido) de forma que o POS Tagger classifique 'Albert' como verbo."
      ],
      "metadata": {
        "id": "IK54GFOjq9KV"
      }
    },
    {
      "cell_type": "code",
      "source": [
        "#seu código aqui\n",
        "sent = \"He albert today\"\n",
        "\n",
        "tokens = nltk.word_tokenize(sent)\n",
        "print('Sentence:', tokens)\n",
        "print(nltk.pos_tag(tokens))"
      ],
      "metadata": {
        "id": "FiGmo31Yqoc-",
        "colab": {
          "base_uri": "https://localhost:8080/"
        },
        "outputId": "b0fbe979-e093-42f5-81be-b5a5e9d2cabf"
      },
      "execution_count": null,
      "outputs": [
        {
          "output_type": "stream",
          "name": "stdout",
          "text": [
            "Sentence: ['He', 'albert', 'today']\n",
            "[('He', 'PRP'), ('albert', 'VBZ'), ('today', 'NN')]\n"
          ]
        }
      ]
    },
    {
      "cell_type": "markdown",
      "source": [
        "**TODO:** Agora formule duas sentenças (que façam sentido) onde a mesma palavra é classificada de uma forma na sentença 1 e de outra forma na sentença 2."
      ],
      "metadata": {
        "id": "LaQbBRBMsF_g"
      }
    },
    {
      "cell_type": "code",
      "source": [
        "#seu código aqui\n",
        "sent1 = \"This is a love song\"\n",
        "sent2 = \"I love my wife\"\n",
        "\n",
        "tokens = nltk.word_tokenize(sent1)\n",
        "print('Sentence 1:', tokens)\n",
        "print(nltk.pos_tag(tokens))\n",
        "\n",
        "print('\\n')\n",
        "\n",
        "tokens = nltk.word_tokenize(sent2)\n",
        "print('Sentence 2:', tokens)\n",
        "print(nltk.pos_tag(tokens))\n"
      ],
      "metadata": {
        "id": "9zLgX7jCLcPN",
        "colab": {
          "base_uri": "https://localhost:8080/"
        },
        "outputId": "3cd2e6d9-3630-4fc2-a831-ede51e8c7d0c"
      },
      "execution_count": null,
      "outputs": [
        {
          "output_type": "stream",
          "name": "stdout",
          "text": [
            "Sentence 1: ['This', 'is', 'a', 'love', 'song']\n",
            "[('This', 'DT'), ('is', 'VBZ'), ('a', 'DT'), ('love', 'NN'), ('song', 'NN')]\n",
            "\n",
            "\n",
            "Sentence 2: ['I', 'love', 'my', 'wife']\n",
            "[('I', 'PRP'), ('love', 'VBP'), ('my', 'PRP$'), ('wife', 'NN')]\n"
          ]
        }
      ]
    },
    {
      "cell_type": "markdown",
      "source": [
        "### Lemmatization com POS-Tagging\n",
        "\n",
        "Vamos automatizar o processo de lematização: vamos detectar a POS-TAG com nltk.pos_tag e então passá-la para o wordnet lemmatizer."
      ],
      "metadata": {
        "id": "bm_U2fHYtfoG"
      }
    },
    {
      "cell_type": "markdown",
      "source": [
        "Execute o comando abaixo para criar as classes necessárias. Analise o código para entender.\n"
      ],
      "metadata": {
        "id": "On3xqchMU0eK"
      }
    },
    {
      "cell_type": "code",
      "source": [
        "# observe e o que o código abaixo faz\n",
        "\n",
        "class Splitter(object):\n",
        "    \"\"\"\n",
        "    split the document into sentences and tokenize each sentence\n",
        "    \"\"\"\n",
        "    def __init__(self):\n",
        "        self.splitter = nltk.data.load('tokenizers/punkt/english.pickle')\n",
        "        self.tokenizer = nltk.tokenize.TreebankWordTokenizer()\n",
        "\n",
        "    def split(self,text):\n",
        "        \"\"\"\n",
        "        out : ['What', 'can', 'I', 'say', 'about', 'this', 'place', '.']\n",
        "        \"\"\"\n",
        "        # split into single sentence\n",
        "        sentences = self.splitter.tokenize(text)\n",
        "        # tokenization in each sentences\n",
        "        tokens = [self.tokenizer.tokenize(sent) for sent in sentences]\n",
        "        return tokens\n",
        "\n",
        "\n",
        "class LemmatizationWithPOSTagger(object):\n",
        "    def __init__(self):\n",
        "        pass\n",
        "    def get_wordnet_pos(self,treebank_tag):\n",
        "        \"\"\"\n",
        "        return WORDNET POS compliance to WORDNET lemmatization (a,n,r,v)\n",
        "        \"\"\"\n",
        "        if treebank_tag.startswith('A'):\n",
        "            return wordnet.ADJ\n",
        "        elif treebank_tag.startswith('V'):\n",
        "            return wordnet.VERB\n",
        "        elif treebank_tag.startswith('N'):\n",
        "            return wordnet.NOUN\n",
        "        elif treebank_tag.startswith('R'):\n",
        "            return wordnet.ADV\n",
        "        else:\n",
        "            # As default pos in lemmatization is Noun\n",
        "            return wordnet.NOUN\n",
        "\n",
        "    def pos_tag_lemma_complete(self,tokens):\n",
        "        # find the pos tag for each token [('What', 'WP'), ('can', 'MD'), ('I', 'PRP') ....\n",
        "        pos_tokens = [nltk.pos_tag(token) for token in tokens]\n",
        "\n",
        "        # lemmatization using pos tag\n",
        "        # convert into feature set of [('What', 'What', ['WP']), ('can', 'can', ['MD']), ... ie [original WORD, Lemmatized word, POS tag]\n",
        "        pos_tokens = [ [(word, lemmatizer.lemmatize(word,self.get_wordnet_pos(pos_tag)), [pos_tag]) for (word,pos_tag) in pos] for pos in pos_tokens]\n",
        "        return pos_tokens\n",
        "\n",
        "    def pos_tag_lemma_basic(self,tokens):\n",
        "        # find the pos tag for each token [('What', 'WP'), ('can', 'MD'), ('I', 'PRP') ....\n",
        "        pos_tokens = [nltk.pos_tag(token) for token in tokens]\n",
        "\n",
        "        # lemmatization using pos tag\n",
        "        # convert into list of Lemmatized words\n",
        "        pos_tokens = [ [lemmatizer.lemmatize(word,self.get_wordnet_pos(pos_tag)) for (word,pos_tag) in pos] for pos in pos_tokens]\n",
        "\n",
        "        return pos_tokens\n"
      ],
      "metadata": {
        "id": "jryky1nwuzHW"
      },
      "execution_count": null,
      "outputs": []
    },
    {
      "cell_type": "markdown",
      "source": [
        "Agora complete o código abaixo com o que se pede:"
      ],
      "metadata": {
        "id": "G2rY0e1nVDMD"
      }
    },
    {
      "cell_type": "code",
      "source": [
        "#seu código aqui\n",
        "# instancie um objeto de cada classe\n",
        "splinter = Splitter()\n",
        "lemmatization = LemmatizationWithPOSTagger()\n",
        "\n",
        "#seu código aqui\n",
        "# crie um pequeno texto de exemplo\n",
        "text = 'Hello, this is a small text for the R.I lab'\n",
        "\n",
        "#seu código aqui\n",
        "#passo 1 - use o splitter e imprima o resultado\n",
        "tokens = splinter.split(text)\n",
        "print(tokens)\n",
        "\n",
        "#seu código aqui\n",
        "#passo 2 - use o lematizador básico e imprima o resultado\n",
        "print(lemmatization.pos_tag_lemma_basic(tokens))\n",
        "\n",
        "#seu código aqui\n",
        "#passo 3 - use o lematizador completo e imprima o resultado\n",
        "print(lemmatization.pos_tag_lemma_complete(tokens))\n"
      ],
      "metadata": {
        "id": "-eAtWTAyVYEC",
        "colab": {
          "base_uri": "https://localhost:8080/"
        },
        "outputId": "0379276b-5e20-4c91-cd09-84c36f6129f1"
      },
      "execution_count": null,
      "outputs": [
        {
          "output_type": "stream",
          "name": "stdout",
          "text": [
            "[['Hello', ',', 'this', 'is', 'a', 'small', 'text', 'for', 'the', 'I.R', 'lab']]\n",
            "[['Hello', ',', 'this', 'be', 'a', 'small', 'text', 'for', 'the', 'I.R', 'lab']]\n",
            "[[('Hello', 'Hello', ['NNP']), (',', ',', [',']), ('this', 'this', ['DT']), ('is', 'be', ['VBZ']), ('a', 'a', ['DT']), ('small', 'small', ['JJ']), ('text', 'text', ['NN']), ('for', 'for', ['IN']), ('the', 'the', ['DT']), ('I.R', 'I.R', ['NNP']), ('lab', 'lab', ['NN'])]]\n"
          ]
        }
      ]
    },
    {
      "cell_type": "markdown",
      "source": [
        "## Outras Bibliotecas\n",
        "\n",
        "Vamos conhecer outras libs que nos ajudam nesse tipo de tarefa"
      ],
      "metadata": {
        "id": "wNV1AtI_h0MI"
      }
    },
    {
      "cell_type": "markdown",
      "source": [
        "### Lematização usando [Stanza](https://stanfordnlp.github.io/stanza/)"
      ],
      "metadata": {
        "id": "_DhUQkZ0hExT"
      }
    },
    {
      "cell_type": "code",
      "source": [
        "pip install stanza"
      ],
      "metadata": {
        "id": "jb0YxceIg62A",
        "colab": {
          "base_uri": "https://localhost:8080/"
        },
        "outputId": "bfbf6d4d-7fc0-4b27-871a-12b8a88111ac"
      },
      "execution_count": null,
      "outputs": [
        {
          "output_type": "stream",
          "name": "stdout",
          "text": [
            "Requirement already satisfied: stanza in /usr/local/lib/python3.10/dist-packages (1.8.0)\n",
            "Requirement already satisfied: emoji in /usr/local/lib/python3.10/dist-packages (from stanza) (2.10.1)\n",
            "Requirement already satisfied: numpy in /usr/local/lib/python3.10/dist-packages (from stanza) (1.25.2)\n",
            "Requirement already satisfied: protobuf>=3.15.0 in /usr/local/lib/python3.10/dist-packages (from stanza) (3.20.3)\n",
            "Requirement already satisfied: requests in /usr/local/lib/python3.10/dist-packages (from stanza) (2.31.0)\n",
            "Requirement already satisfied: networkx in /usr/local/lib/python3.10/dist-packages (from stanza) (3.2.1)\n",
            "Requirement already satisfied: toml in /usr/local/lib/python3.10/dist-packages (from stanza) (0.10.2)\n",
            "Requirement already satisfied: torch>=1.3.0 in /usr/local/lib/python3.10/dist-packages (from stanza) (2.1.0+cu121)\n",
            "Requirement already satisfied: tqdm in /usr/local/lib/python3.10/dist-packages (from stanza) (4.66.2)\n",
            "Requirement already satisfied: filelock in /usr/local/lib/python3.10/dist-packages (from torch>=1.3.0->stanza) (3.13.1)\n",
            "Requirement already satisfied: typing-extensions in /usr/local/lib/python3.10/dist-packages (from torch>=1.3.0->stanza) (4.10.0)\n",
            "Requirement already satisfied: sympy in /usr/local/lib/python3.10/dist-packages (from torch>=1.3.0->stanza) (1.12)\n",
            "Requirement already satisfied: jinja2 in /usr/local/lib/python3.10/dist-packages (from torch>=1.3.0->stanza) (3.1.3)\n",
            "Requirement already satisfied: fsspec in /usr/local/lib/python3.10/dist-packages (from torch>=1.3.0->stanza) (2023.6.0)\n",
            "Requirement already satisfied: triton==2.1.0 in /usr/local/lib/python3.10/dist-packages (from torch>=1.3.0->stanza) (2.1.0)\n",
            "Requirement already satisfied: charset-normalizer<4,>=2 in /usr/local/lib/python3.10/dist-packages (from requests->stanza) (3.3.2)\n",
            "Requirement already satisfied: idna<4,>=2.5 in /usr/local/lib/python3.10/dist-packages (from requests->stanza) (3.6)\n",
            "Requirement already satisfied: urllib3<3,>=1.21.1 in /usr/local/lib/python3.10/dist-packages (from requests->stanza) (2.0.7)\n",
            "Requirement already satisfied: certifi>=2017.4.17 in /usr/local/lib/python3.10/dist-packages (from requests->stanza) (2024.2.2)\n",
            "Requirement already satisfied: MarkupSafe>=2.0 in /usr/local/lib/python3.10/dist-packages (from jinja2->torch>=1.3.0->stanza) (2.1.5)\n",
            "Requirement already satisfied: mpmath>=0.19 in /usr/local/lib/python3.10/dist-packages (from sympy->torch>=1.3.0->stanza) (1.3.0)\n"
          ]
        }
      ]
    },
    {
      "cell_type": "markdown",
      "source": [
        "**TODO:** complete o código abaixo"
      ],
      "metadata": {
        "id": "kVWa_S8emw_S"
      }
    },
    {
      "cell_type": "code",
      "source": [
        "import stanza\n",
        "nlp = stanza.Pipeline(lang='en', processors='tokenize,pos,lemma')\n",
        "\n",
        "# Seu código aqui\n",
        "# Substitua a string vazia por uma sequencia de termos separados por espaço)\n",
        "doc = nlp('this is a sequece of terms separated by space')\n",
        "\n",
        "# Seu código aqui\n",
        "# Imprima lado a lado os termos com seus repectivos lemas\n",
        "print([(word.text, word.lemma) for sent in doc.sentences for word in sent.words])\n",
        "\n",
        "# Em uma única expressão usando list comprehension, gere o lemas para os termos acima, manipulando doc.sentences, doc.sentences.words\n",
        "# O texto e o lema podem ser obtidos com .text e .lemma em cada item (cada word em doc.sentences.words)\n",
        "print(*[f'Termo: {word.text+\" \"}\\tLema: {word.lemma+\" \"}' for sent in doc.sentences for word in sent.words], sep='\\n')\n"
      ],
      "metadata": {
        "id": "VDo9OWUSgZyb",
        "colab": {
          "base_uri": "https://localhost:8080/",
          "height": 552,
          "referenced_widgets": [
            "cf244c7ee86241a48def9fbc39a81e45",
            "8ce1aafe0b474631bdc90339264a91ed",
            "0dbcaeda76644328920ccdaf0aafe2b2",
            "71f28ef27519446da727bfc544b8b46b",
            "078c45e327964c6bbc5cad5bb76f1795",
            "d67ab0fc2cd549e1bf29d6dd17822802",
            "912dbb814a8e4cd485287084db713fed",
            "ce6521ada705497fa55bc7dede32210d",
            "a90b97293a2643e1801dabcf833ab23e",
            "2eb74549cc4c4bed81cbecd747b8d30c",
            "8f671e71493746f0b594969d9f0dab49"
          ]
        },
        "outputId": "831bf4a2-1663-4734-9d03-2ad8733d895d"
      },
      "execution_count": null,
      "outputs": [
        {
          "output_type": "stream",
          "name": "stderr",
          "text": [
            "INFO:stanza:Checking for updates to resources.json in case models have been updated.  Note: this behavior can be turned off with download_method=None or download_method=DownloadMethod.REUSE_RESOURCES\n"
          ]
        },
        {
          "output_type": "display_data",
          "data": {
            "text/plain": [
              "Downloading https://raw.githubusercontent.com/stanfordnlp/stanza-resources/main/resources_1.8.0.json:   0%|   …"
            ],
            "application/vnd.jupyter.widget-view+json": {
              "version_major": 2,
              "version_minor": 0,
              "model_id": "cf244c7ee86241a48def9fbc39a81e45"
            }
          },
          "metadata": {}
        },
        {
          "output_type": "stream",
          "name": "stderr",
          "text": [
            "INFO:stanza:Downloaded file to /root/stanza_resources/resources.json\n",
            "WARNING:stanza:Language en package default expects mwt, which has been added\n",
            "INFO:stanza:Loading these models for language: en (English):\n",
            "=================================\n",
            "| Processor | Package           |\n",
            "---------------------------------\n",
            "| tokenize  | combined          |\n",
            "| mwt       | combined          |\n",
            "| pos       | combined_charlm   |\n",
            "| lemma     | combined_nocharlm |\n",
            "=================================\n",
            "\n",
            "INFO:stanza:Using device: cpu\n",
            "INFO:stanza:Loading: tokenize\n",
            "INFO:stanza:Loading: mwt\n",
            "INFO:stanza:Loading: pos\n",
            "INFO:stanza:Loading: lemma\n",
            "INFO:stanza:Done loading processors!\n"
          ]
        },
        {
          "output_type": "stream",
          "name": "stdout",
          "text": [
            "[('this', 'this'), ('is', 'be'), ('a', 'a'), ('sequece', 'sequece'), ('of', 'of'), ('terms', 'term'), ('separated', 'separate'), ('by', 'by'), ('space', 'space')]\n",
            "Termo: this \tLema: this \n",
            "Termo: is \tLema: be \n",
            "Termo: a \tLema: a \n",
            "Termo: sequece \tLema: sequece \n",
            "Termo: of \tLema: of \n",
            "Termo: terms \tLema: term \n",
            "Termo: separated \tLema: separate \n",
            "Termo: by \tLema: by \n",
            "Termo: space \tLema: space \n"
          ]
        }
      ]
    },
    {
      "cell_type": "markdown",
      "source": [
        "### Lematização usando [Spacy](https://spacy.io) - [lemminflect](https://spacy.io/universe/project/lemminflect/)"
      ],
      "metadata": {
        "id": "vIyPvAGsfwL8"
      }
    },
    {
      "cell_type": "code",
      "source": [
        "!pip install lemminflect"
      ],
      "metadata": {
        "id": "e6pePqLRfCku",
        "colab": {
          "base_uri": "https://localhost:8080/"
        },
        "outputId": "0c806be2-77bf-4b32-fab5-00149de323bf"
      },
      "execution_count": null,
      "outputs": [
        {
          "output_type": "stream",
          "name": "stdout",
          "text": [
            "Collecting lemminflect\n",
            "  Downloading lemminflect-0.2.3-py3-none-any.whl (769 kB)\n",
            "\u001b[?25l     \u001b[90m━━━━━━━━━━━━━━━━━━━━━━━━━━━━━━━━━━━━━━━━\u001b[0m \u001b[32m0.0/769.7 kB\u001b[0m \u001b[31m?\u001b[0m eta \u001b[36m-:--:--\u001b[0m\r\u001b[2K     \u001b[91m━━━━━━━\u001b[0m\u001b[91m╸\u001b[0m\u001b[90m━━━━━━━━━━━━━━━━━━━━━━━━━━━━━━━━\u001b[0m \u001b[32m153.6/769.7 kB\u001b[0m \u001b[31m4.6 MB/s\u001b[0m eta \u001b[36m0:00:01\u001b[0m\r\u001b[2K     \u001b[91m━━━━━━━━━━━━━━━━━━━━━━━━━━━\u001b[0m\u001b[90m╺\u001b[0m\u001b[90m━━━━━━━━━━━━\u001b[0m \u001b[32m522.2/769.7 kB\u001b[0m \u001b[31m7.4 MB/s\u001b[0m eta \u001b[36m0:00:01\u001b[0m\r\u001b[2K     \u001b[90m━━━━━━━━━━━━━━━━━━━━━━━━━━━━━━━━━━━━━━━━\u001b[0m \u001b[32m769.7/769.7 kB\u001b[0m \u001b[31m7.3 MB/s\u001b[0m eta \u001b[36m0:00:00\u001b[0m\n",
            "\u001b[?25hRequirement already satisfied: numpy in /usr/local/lib/python3.10/dist-packages (from lemminflect) (1.25.2)\n",
            "Installing collected packages: lemminflect\n",
            "Successfully installed lemminflect-0.2.3\n"
          ]
        }
      ]
    },
    {
      "cell_type": "markdown",
      "source": [
        "**TODO:** Complete o código"
      ],
      "metadata": {
        "id": "Yj3ifu-kqFTO"
      }
    },
    {
      "cell_type": "code",
      "source": [
        "import spacy\n",
        "import lemminflect\n",
        "\n",
        "nlp = spacy.load('en_core_web_sm')\n",
        "doc = nlp('best well better be was were is am')\n",
        "\n",
        "# aqui podemos iterar em 'doc'\n",
        "print(f\"{'Text':{8}} | {'Lemma':{6}}\\n\")\n",
        "for token in doc:\n",
        "    print(f\"{token.text:{8}} | {token.lemma_:{6}}\") # seu código aqui (complete o código para montar a tabela)\n"
      ],
      "metadata": {
        "id": "1tHHf-n34yVN",
        "colab": {
          "base_uri": "https://localhost:8080/"
        },
        "outputId": "c13c8408-0a0b-4496-b1d0-0f0857c25dc2"
      },
      "execution_count": null,
      "outputs": [
        {
          "output_type": "stream",
          "name": "stdout",
          "text": [
            "Text     | Lemma \n",
            "\n",
            "best     | well  \n",
            "well     | well  \n",
            "better   | well  \n",
            "be       | be    \n",
            "was      | be    \n",
            "were     | be    \n",
            "is       | be    \n",
            "am       | am    \n"
          ]
        }
      ]
    },
    {
      "cell_type": "markdown",
      "source": [
        "#### Função getLemma"
      ],
      "metadata": {
        "id": "Chg9BtfHSvZ-"
      }
    },
    {
      "cell_type": "code",
      "source": [
        "from lemminflect import getLemma\n",
        "getLemma( 'watches', upos='VERB')"
      ],
      "metadata": {
        "id": "KZ_gxxmrSuIJ",
        "colab": {
          "base_uri": "https://localhost:8080/"
        },
        "outputId": "dfe771df-a123-43b4-cad4-18463e566631"
      },
      "execution_count": null,
      "outputs": [
        {
          "output_type": "execute_result",
          "data": {
            "text/plain": [
              "('watch',)"
            ]
          },
          "metadata": {},
          "execution_count": 164
        }
      ]
    },
    {
      "cell_type": "markdown",
      "source": [
        "## N-Gramas"
      ],
      "metadata": {
        "id": "xyTf8DinROvI"
      }
    },
    {
      "cell_type": "markdown",
      "source": [
        "### Implementação ad-hoc (função que gera os n-gramas a partir da lista de tokens)"
      ],
      "metadata": {
        "id": "uKDfdEzlRXJx"
      }
    },
    {
      "cell_type": "code",
      "source": [
        "def n_grams(tokens,ngram=1):\n",
        "  temp=zip(*[tokens[i:] for i in range(0,ngram)])\n",
        "  print(temp)\n",
        "  result=[' '.join(ngram) for ngram in temp]\n",
        "  return result"
      ],
      "metadata": {
        "id": "ZUTgVtW2RVli"
      },
      "execution_count": null,
      "outputs": []
    },
    {
      "cell_type": "markdown",
      "source": [
        "**TODO:** Produza um exemplo para um texto qualquer. Primeiro, defina uma forma de tokenizar o texto e depois gere os n-gramas que desejar com a função acima."
      ],
      "metadata": {
        "id": "2L6_J56LTDJj"
      }
    },
    {
      "cell_type": "code",
      "source": [
        "# seu código aqui\n",
        "\n",
        "text = '''This is any text to be used in R.I's laboratory,\n",
        "          where we will learn about text processing.\n",
        "          it's been really cool\n",
        "        '''\n",
        "\n",
        "nlp = spacy.load('en_core_web_sm')\n",
        "doc = nlp(text)\n",
        "\n",
        "tokens = [token.text for token in doc if token.text.isalnum()]\n",
        "ngram = n_grams(tokens, 4)\n",
        "print(ngram)\n"
      ],
      "metadata": {
        "id": "-sMoCrzMR5YL",
        "colab": {
          "base_uri": "https://localhost:8080/"
        },
        "outputId": "89081ee2-a622-4149-aadc-6986e527a71d"
      },
      "execution_count": null,
      "outputs": [
        {
          "output_type": "stream",
          "name": "stdout",
          "text": [
            "<zip object at 0x7dcac96ea080>\n",
            "['This is any text', 'is any text to', 'any text to be', 'text to be used', 'to be used in', 'be used in laboratory', 'used in laboratory where', 'in laboratory where we', 'laboratory where we will', 'where we will learn', 'we will learn about', 'will learn about text', 'learn about text processing', 'about text processing it', 'text processing it been', 'processing it been really', 'it been really cool']\n"
          ]
        }
      ]
    },
    {
      "cell_type": "markdown",
      "source": [
        "### Usando NLTK"
      ],
      "metadata": {
        "id": "dfGvkZuPSptY"
      }
    },
    {
      "cell_type": "code",
      "source": [
        "from nltk.util import ngrams\n",
        "\n",
        "text = '''Hello Mr. Smith, how are you doing today?\n",
        "    The weather is great, and city is awesome.\n",
        "    The sky is pinkish-blue. You shouldn't eat cardboard\n",
        "'''\n",
        "\n",
        "tokens = [word.lower() for sent in sent_tokenize(text) for word in word_tokenize(sent) if word.isalnum()]\n",
        "\n",
        "list(ngrams(tokens, 3))\n",
        "\n",
        "# A saída do código acima não é igual à nossa implementação ad-hoc.\n",
        "# O código abaixo torna a saída igual à nossa (o nltk não retorna a string, mas sim o zip).\n",
        "# Remova o comentário e adicione uma linha de código no final, apenas para imprimir o resultado.\n",
        "#\n",
        "#\n",
        "temp=ngrams(tokens, 3)\n",
        "result=[' '.join(ngram) for ngram in temp]\n",
        "# Seu código aqui\n",
        "print(result)"
      ],
      "metadata": {
        "id": "wP8YN89WT9bp",
        "colab": {
          "base_uri": "https://localhost:8080/"
        },
        "outputId": "d407712c-5dd6-4bcd-844b-02c1db16090e"
      },
      "execution_count": null,
      "outputs": [
        {
          "output_type": "stream",
          "name": "stdout",
          "text": [
            "['hello smith how', 'smith how are', 'how are you', 'are you doing', 'you doing today', 'doing today the', 'today the weather', 'the weather is', 'weather is great', 'is great and', 'great and city', 'and city is', 'city is awesome', 'is awesome the', 'awesome the sky', 'the sky is', 'sky is you', 'is you should', 'you should eat', 'should eat cardboard']\n"
          ]
        }
      ]
    }
  ]
}